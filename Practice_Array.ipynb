{
 "cells": [
  {
   "cell_type": "code",
   "execution_count": null,
   "id": "45292dc5-b0e4-43f5-af09-7919180ecda6",
   "metadata": {},
   "outputs": [],
   "source": [
    "class Solution {\n",
    "  public:\n",
    "    void sort012(vector<int>& arr) {\n",
    "        int low = 0, mid = 0, high = arr.size() - 1;\n",
    "\n",
    "        while (mid <= high) {\n",
    "            if (arr[mid] == 0) {\n",
    "                swap(arr[low], arr[mid]);\n",
    "                low++;\n",
    "                mid++;\n",
    "            } else if (arr[mid] == 1) {\n",
    "                mid++;\n",
    "            } else {\n",
    "                swap(arr[mid], arr[high]);\n",
    "                high--;\n",
    "            }\n",
    "        }\n",
    "    }\n",
    "};"
   ]
  }
 ],
 "metadata": {
  "kernelspec": {
   "display_name": "Python 3 (ipykernel)",
   "language": "python",
   "name": "python3"
  },
  "language_info": {
   "codemirror_mode": {
    "name": "ipython",
    "version": 3
   },
   "file_extension": ".py",
   "mimetype": "text/x-python",
   "name": "python",
   "nbconvert_exporter": "python",
   "pygments_lexer": "ipython3",
   "version": "3.12.4"
  }
 },
 "nbformat": 4,
 "nbformat_minor": 5
}
