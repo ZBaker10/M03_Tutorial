{
 "cells": [
  {
   "cell_type": "code",
   "execution_count": null,
   "id": "55df117c-abee-449b-a07c-10c5a5b986e5",
   "metadata": {},
   "outputs": [],
   "source": [
    "class Solution {\n",
    "  public:\n",
    "    int binarysearch(vector<int>& arr, int k) {\n",
    "        int low = 0;\n",
    "        int high = arr.size() - 1;\n",
    "        \n",
    "        while (low <= high) {\n",
    "            int mid = low + (high - low) / 2;\n",
    "            \n",
    "            if (arr[mid] == k) {\n",
    "                return mid;  // Element found at index mid\n",
    "            } else if (arr[mid] > k) {\n",
    "                high = mid - 1;  // Search in the left half\n",
    "            } else {\n",
    "                low = mid + 1;   // Search in the right half\n",
    "            }\n",
    "        }\n",
    "        \n",
    "        return -1;  // Element not found\n",
    "    }\n",
    "};"
   ]
  }
 ],
 "metadata": {
  "kernelspec": {
   "display_name": "Python 3 (ipykernel)",
   "language": "python",
   "name": "python3"
  },
  "language_info": {
   "codemirror_mode": {
    "name": "ipython",
    "version": 3
   },
   "file_extension": ".py",
   "mimetype": "text/x-python",
   "name": "python",
   "nbconvert_exporter": "python",
   "pygments_lexer": "ipython3",
   "version": "3.12.4"
  }
 },
 "nbformat": 4,
 "nbformat_minor": 5
}
